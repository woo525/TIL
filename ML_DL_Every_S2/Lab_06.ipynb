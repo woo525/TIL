{
  "nbformat": 4,
  "nbformat_minor": 0,
  "metadata": {
    "colab": {
      "name": "Lab-06",
      "provenance": [],
      "collapsed_sections": []
    },
    "kernelspec": {
      "name": "python3",
      "display_name": "Python 3"
    },
    "language_info": {
      "name": "python"
    }
  },
  "cells": [
    {
      "cell_type": "markdown",
      "metadata": {
        "id": "F6ZMkYbnW9oq"
      },
      "source": [
        "### Lab-06: Softmax Classification\n",
        "\n"
      ]
    },
    {
      "cell_type": "code",
      "metadata": {
        "id": "sYoGxh-sq1FN",
        "colab": {
          "base_uri": "https://localhost:8080/"
        },
        "outputId": "b7fc9c08-5a40-4e1b-f310-be054461ae69"
      },
      "source": [
        "import torch\n",
        "import torch.nn as nn\n",
        "import torch.nn.functional as F\n",
        "import torch.optim as optim\n",
        "\n",
        "torch.manual_seed(1) # 랜덤 시드 고정"
      ],
      "execution_count": 39,
      "outputs": [
        {
          "output_type": "execute_result",
          "data": {
            "text/plain": [
              "<torch._C.Generator at 0x7f68d1323a90>"
            ]
          },
          "metadata": {
            "tags": []
          },
          "execution_count": 39
        }
      ]
    },
    {
      "cell_type": "markdown",
      "metadata": {
        "id": "WO9bV5mLQ7-A"
      },
      "source": [
        "##### Softmax\n",
        "![image.png](data:image/png;base64,iVBORw0KGgoAAAANSUhEUgAAANUAAABNCAYAAAAxdSGtAAASmUlEQVR4Ae3dA5BsufcH8Le2bduqtW3Vemttu9a2be/W2rZt27at/OuT/y9Tvb3TPc3Xd2aSqvu6p29ubnJyvkc5yRsQcskUyBRoKQUGtLS13FimQKZAyKDKTJAp0GIKZFC1mKC5uUyBDKrMA5kCLaZABlWLCZqbyxTIoMo8kCnQYgpkULWYoLm5TIEMqswDfY4C//zzT/j777/Dn3/+GXwf2CWDamBTPL+v7RQAqJdeeilccskl4YcffhjowMqgavsU5xcMbArQUNdee21YZ511wqeffppBNbAnIL+v71GAyfftt9+G999/P5qAA3uEWVMNbIrn97WVAn/88Uf48ssvw6uvvho+/vjj6Fu19YXdNJ5B1Q1R8k+9lwLff/99uPLKK8NSSy0Vbr755gyq3juVuedFocBff/0VbrnllrDQQguFF154YaD7U+iQNVVRuCH3oyUUYP4dfPDBYYUVVghfffVVS9qst5EMqnoplusXjgICE2k96uuvvw5rrbVW2G+//cLvv//ekb5mUHWE7PmlzVLAWtRvv/0WPv/88/Dmm2+G9957L/zyyy8xQLHIIouEG264Ifz666/Zp2qW0Pn5vk8BGsk61Ntvvx3OOuussM8++4RNN900LLbYYuHSSy8NV199dZhiiiniOtWLL76YQ+p9nyXyCJulAJ/p4Ycfjgu7W2+9dXj++efDa6+9FmafffYILlkUs8wySzjnnHPCZ5991mUWNvveep7P5l891Mp1O0oBJh9AzT333GGllVYKNBG/6Y477giTTTZZOOigg8IXX3wRQfbNN990xPRDoAyqjrJJfnmtFGD2ffLJJ2G99dYLE044YbjmmmtiXh+Qrbbaal0gE1IvDVzU2n4r62VQtZKaua22UYAfdf7554dRRhklzDTTTOH6668Pp512WgTZAQccELWTOkUoGVRFmIXchx4p8N1330VtNMQQQ4SVV145BilkTvCnfv75545rp9IBZFCVUiN/LywFPvrooxiMGGOMMWLGhPB5qanXaZOvlHAZVKXUyN8LS4EPP/wwgor5Jw1J0AKQAOuDDz4I99xzT/jpp58K0f9CgQqREKvR4nnRIJfv/bU0S8ci0s1mw4033jgMNdRQYZNNNgnPPvtseOONN2LAYu+99w733ntvEG4vQmkZqKxu27/Cxn3llVe6Lin4b731Vgx1phXucoZPYLDm8Mwzz9RFF8/K8XrkkUfCGWecEbbZZptI4PJ31NVoL6xMYouO2ZT3448/Rmn+zjvvdGTxsx3kI2zt5k3Rv/nnnz+suuqqYc899wz3339/zK4oypy3DFQkiTDnEkssEcYZZ5ww/vjjh2WWWSYu0i299NJB6oh1BIArjdIgBLUtmiOK8+6779Y1J56XqsJpnWOOOeJqOoAVhcB1DaaJysyjFVdcMayyyioxZce2hz322CM88cQThZHgTQwvPgpYBCgt9dhjj0UBbqtH8q2abb9Vz7cMVJiY2bXddtuFQQYZJK5qP/3000HUhoSxtXn44YePERy5Wuq7SNUTTjghbL755hFw9Zp/qR0acZ555glzzjln4NT2t8IUIr0JLxqKVUDIoSshg/H6QknzXfpZtHG1DFQGRuNssMEGYcCAAWHLLbfsOnQDUO6+++4wwQQThOGGGy5cfvnlcZJprJtuuiksvPDC4b777mvYn9I+TceJZf6JDPW3wvwmvQmy5FMmgbX++utHoGHEXNpPgZaByoTxqUjKYYYZJpxyyin/MvP4SpNMMkl0NM8777xokpCodmjutttuUWNVG672gac7TYahjjvuuDDyyCOHiy66qKJUTs8nKefvckYrfU/63kidamNpxz19pI1KTSHj4+Oi8YEHHliY6Fg7xl+kNlsGKhN42223hVFHHTVMOeWU4cknn+wy8dxjiow11ljBOsPtt98etckxxxwTxhtvvK4QaTlhMIqLxMUccrxoPGn+Ij3pvjyv1VdfPfpxjz766L+Apw6NyOe48847o2aU4fzQQw/Fy8Khoh4J//rrr0etR/MxW0l//mKqoy/8FNnQd911VzRZ2fierVRSPxv9rNYurSxxVL9FwAQrvCcV97fffvtojgsEld5LddJno/1Lz6V2+vtny0CFqU488cRgxXveeeftyhDG0DSYqM3QQw8d1lxzzXggh8knQdXF5OXFRAEOMB1xxBHh6KOPjtpoq622im3QfMCapPE000wTll122dh2YhyfQAAgfD2RokMPPTTssssuMQGTqZp2h+on0Fqt54cIqmy77bbRNHWAiMJPkRojAEO7kv7Go0/VTE604ecZZz0Xf9T4KhX3aPuzzz47BoimnXbaCPg0fs/RXBdeeGG0Ek4++eR/WQ/l7WqPANFmPf0k5JJwKm+zP/7dMlBhgDXWWCMMPvjgkdFIbxKdhtpwww3DRBNNFJmeBjPRNAomEK2iacqLOrTE8ssvH6NYgIlxgYvvdOqpp3aZOyJdNN7OO+/cZeJgLJEhZqGo4JlnnhnfY/KBQD/txWE6Ko602myzzWKyJsAC0BVXXBH4I8amiEzONddcEVRO7PGMCNuRRx5ZlVktTgrUAH6t14wzzhj3BFVbezFG47HwiSayt5MAiB3+nwaWdDrppJPGedDnSgWoWAKzzjprzf00HhFfWrCnor8Am6yEon92J+x7GqP7LQEVYok+2RyGWZMkt0hHQ/k8/fTTu85hU99hh4BA0tMmpcXkihACnIieCfMbbWI1XRDk8ccfj79h/v333z+MOeaYMR8MGBV1AZopanEQM3kvEAHVuOOOG6677rouTQAktmFrhxmrHRJYqD5pIRFGzE67Yg51MCyzK723dBzpu5D/YYcdFumAFrVcW2yxRWzbOKoVY0IT/uROO+3UJVTSM+4TcOhAQLEQKhU0fu655yJ9auljqkOw1MKA2ifI0Lg3XPimkdISUCEWE4u/JBhBApHO/BjMCjSlTKc+f8rq+Lrrrvsf0wETO7xDe0ybUmnNlGKiJGaz2Mmfmm666boWjjGSSWZe0lLWxvymOMMAkGeeeeZoWqbfSXznGohO2qsD1N5VaoIxFTGmpQFAds9zxpfa6W4SjBf4672S39hdm+k3dNh9991jv9Eq0SXd1y++4VRTTRX9Kr5Xpb763fP19lP98vem95d+ah9dCaHecOlrI6UloCL9d9111zDYYIOFtddeOzJupYnTSUzGjBtyyCH/AyrPycCYbbbZwvTTT191MVhd5iRzxZFUNIKiP8cee2yU3ocffniXiee96s8wwwzRd2J2pn76pBHnm2++CHZSn/mY7muXYKD9xh577Ah4SwO1MpN3e76ey7tL3x8HV/YPoC+55JJh6qmnjuH08vr+JlSAypIGTVReJzXpd1c9fUx1K7WZ2u5Pny0BlegTCT7ooING552E76kwvWRdMLlSdM0zmI+PNOKII4aNNtroP6ZhabsY2h4bEUdBCBLT5PIrmI1MvNJoIK3C/KBpBFX0MzGR9/rbOQdME6ap6J77Lu9ShxnJd6Nl+RI0ck+FRrMed8EFF9R8WRoQpMG0lYp+8f8AavHFF49WQXlddZx/x/wjMJitlYrxuX/xxRfX3E9j4ntWMysrva+v/t40qEwaxhWIwIj8EZPTUxGEYLKVByo865yBEUYYIZo1gJKKd7nv8t1iMzABFQ0CNBiYD2F7tWhgCjF7xjsnn3zyCCphfRqNqak+LadN2os/Q4syqzC1dvlO+qIdvhVNmpYH/Fat8M2Mk2lc6wUEV1111b9M3/J36Nu5554bhh122GgpGE8SFKmuMT311FNx3PqQtHm6X/ppHJYdBJBq7ad6CyywQNSSpW315+9Ng4rd71QboXRmWC0OK4KT8E7AWXDBBaOJZ/IVE0uqA5XIWzLB3OcP3XrrrTGA4G8ayWIzBmTWsdMFMABg4oknjoxMi2I+9jFTEMMAs3qAyN+gvYTTvdtFS3D8ZWfQUIBJa4pAKphXxrSIG1/SM9UK4DK7pAvVehFU+l6tbf3Q95FGGinceOONUWgAUKKlPnkezQg9Ji0BUakkGhM+tfZTPe8kzHL5fwo0DCoTgOH4Pxx7+X6ktyggJi6d2O6IjSFkXThvgJmVmMdzzB4A5btcdtllkZlN3EknnRTNkhQYAAihYvl+JLYTdEhiz/PHAIvvZqHW+hQfiKkEWCJWzBZhchFKJp1nmaLWxfgfwK0/xgT8hAftKDjiBFR+HCHS01i7G38rfgMQywAEEHBZN0uaObVPc/mdhnYWXqJzut/JT3Rr1dXJcZS/u2FQmRzSF0Ny/IXTHQ0lzIqpe2I0zwOFKJyoWwpb6yBGYEbSZPwA0b0ddtgh+lqYPk2EBVWA9v5DDjkk+gPa1RZfi19FKznKSkSS5FffGQcWcUlXGlOQxTiYkqJ61pTcT+/ik2Bei8Xeoy80F1OpNDJZTtx2/00w0b4A4+w7/SwFDToBmYNRLGiLxBapoB3645dGL8/jl2YLRUBYo2lPvNvTuxoGlRcbDMe99MKotYSCdcwALMrSNKVmi7ZpQeYes4028L1UA6rjb9qFcw0AiaFS34T0Pat/7qkPWH5PQQ2f2lAn1fe3sWnHRTs5+oq/xT+i3dTXx04WfWMeG38aY+qPe+gr6MC3RN9En1Sn05/6TKDxTZmw6eIjjzbaaN1e7jHNU11C0pw0W/CFtUSL3/ikmdIwqJp5aemzGFVAwIIspi7axJf2tTd9J9geeOCB6Jcyf1shzVs9fswL7ISqnQ0uyQP8VQxefrESpJhJLhChFW3mU3NBmi1AJTWNb93rQQVEAg4Ittdee0V/pVkC9ffnaVDBGgzIjGYO01xFK/oE7EDPt06gYoITtjRt+WUsLAkamH/cLKj0wYVmLJJkoTRDq45rKp03KGajELJ8wVyao4AAhjSwTp0lXk/vzT0TlkC1ZQiwBJ9EM6uZ18bIn7Q+2oym8g5aSv6kZZZWRDELASqTgLhMliKaKfUwSRHq0v4kfG8xpc09v5B/JCtHJFlysEBYpTH4nTaWwdMMqPCcdUcbZQWj+hSoisCMuQ+dowA/hg8oWktbAZeIJi0CdOXFb5Y2ZHSIcDZatMOXt4B91FFHVdWOtb6jMJqq1g7nen2TApibSXf88cfH6B5giQBKJ/N7d8CirfhYtQYWtEEz8Z2YnL4njbfooouGBx98sNv31EvxDKp6KZbrt40CmJ5msqYmTQywrMHJCAGARksCk3VRmk0Ax7okAAuISL6Wx1m+F63R92VQNUq5/FxbKEDrSDmTnZPMQEevWa+s5F9V6whA0WZC5ZIIZMs4HMfObRFHSQGWc2TUWEimxZotGVTNUjA/31IKAEFatLbLALAkDGN6WsX9eorAl1xO/ymcjBlbZSw6A5Jdy/JF7ZQQfaQR3Wu2ZFA1S8H8fMspADgAJB1MojZgAUXpZtNaXkqz0UqedSaiHE7+me09krD33XffqJ2E5uWIysxoRBuW9yWDqpwi+e9CUABzCxww0aQxVQtYVOqw8LijF2g6CdXyC6XFWduSPSF3lLnJ5GMitgJQ+pJBVWlG8u8dpQBG5/9IR6Kx5F7WY/qpawOnLS+jjz56zOKXZ2ing201aadDOwaZQdUOquY2G6YAMIj02aZi646onMXZerWIdmztkXzrlC9moMgiH0tb7rvaUTKo2kHV3GbDFMDwMinsVbMtSPpQtXSlSi8CGP8LjKMTRPr4Uqkw+SwYtyJ7IrVZ+plBVUqN/L2jFAAEa0X2s/GlHAJaepxCeefUBzhXudbxt/xB/hiAvvzyy7Et0T0RPweLCqG3o2RQtYOquc26KQAE9sTZpcwHskALAOVgKW2YxrGdX3pT+eKw52gjC8nak4Yk+33HHXeM50C2M9k4g6p0lvL3jlHA2pSDSx3YwweiRaoBKoHQ+pKDWrszEZmS8gNF/KxR2V5kLUrQI/lV7RhwBlU7qJrbrIsCNI6Mc+eSOP1XUMFv1QoQCbk78xBQKgHQ7+oCbWmQolrbzd7LoGqWgvn5pihAY6Qj3JhpzgahXZyn0d2Vjk9witVyyy0Xt2zwl4pUMqiKNBv9rC+0iLNHmHCO25Y94RzBav+Jg92+kmytX9keYiG3ma0f7SB5BlU7qJrb7JECACWLQRSOhpKKVO9lM6MTrizkFqlkUBVpNvpRX5h9zq53fqLj7Rq5/A8sghDlkb9OkzGDqtMz0E/fnyJzghLOJWnk8iz/S1tFKhlURZqNftYXJmArrqKRLYOqaDOS+9PrKZBB1eunMA+gaBTIoCrajOT+9HoKZFD1+inMAygaBTKoijYjuT+9ngIZVL1+CvMAikaBDKqizUjuT6+nQAZVr5/CPICiUSCDqmgzkvvT6ynwf2G6U4V2JGX0AAAAAElFTkSuQmCC)"
      ]
    },
    {
      "cell_type": "code",
      "metadata": {
        "colab": {
          "base_uri": "https://localhost:8080/"
        },
        "id": "wKqnaJp-Qpty",
        "outputId": "2c47b46a-a042-4e67-f220-07a7d16e8454"
      },
      "source": [
        "# Softmax\n",
        "z = torch.FloatTensor([1,2,3])\n",
        "\n",
        "hypothesis = F.softmax(z, dim=0)\n",
        "print(hypothesis)\n",
        "\n",
        "hypothesis.sum()"
      ],
      "execution_count": 40,
      "outputs": [
        {
          "output_type": "stream",
          "text": [
            "tensor([0.0900, 0.2447, 0.6652])\n"
          ],
          "name": "stdout"
        },
        {
          "output_type": "execute_result",
          "data": {
            "text/plain": [
              "tensor(1.)"
            ]
          },
          "metadata": {
            "tags": []
          },
          "execution_count": 40
        }
      ]
    },
    {
      "cell_type": "markdown",
      "metadata": {
        "id": "2bQkwFt_RqmP"
      },
      "source": [
        "##### Cross Entropy\n",
        "![image.png](data:image/png;base64,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)"
      ]
    },
    {
      "cell_type": "code",
      "metadata": {
        "colab": {
          "base_uri": "https://localhost:8080/"
        },
        "id": "m513qUzNRnFE",
        "outputId": "24dba145-ba47-4f86-8fcc-6329e4eb73a3"
      },
      "source": [
        "# Cross Entropy Loss (Low-level)\n",
        "z = torch.rand(3,5,requires_grad=True)\n",
        "hypothesis = F.softmax(z, dim=1)\n",
        "print(hypothesis)\n",
        "\n",
        "y = torch.randint(5, (3,)).long() # 예시를 위해 랜덤하게 정답 설정\n",
        "print(y)"
      ],
      "execution_count": 41,
      "outputs": [
        {
          "output_type": "stream",
          "text": [
            "tensor([[0.2645, 0.1639, 0.1855, 0.2585, 0.1277],\n",
            "        [0.2430, 0.1624, 0.2322, 0.1930, 0.1694],\n",
            "        [0.2226, 0.1986, 0.2326, 0.1594, 0.1868]], grad_fn=<SoftmaxBackward>)\n",
            "tensor([0, 2, 1])\n"
          ],
          "name": "stdout"
        }
      ]
    },
    {
      "cell_type": "code",
      "metadata": {
        "colab": {
          "base_uri": "https://localhost:8080/"
        },
        "id": "_sSQA8_NSqFU",
        "outputId": "3d448646-b3c8-42b6-85c4-e47281a051f8"
      },
      "source": [
        "y_one_hot = torch.zeros_like(hypothesis) # |y_one_hot| = (3,5)\n",
        "y_one_hot.scatter_(1, y.unsqueeze(1), 1)\n",
        "# .unsqueeze: |y| = (3,) -> (3,1)\n",
        "# .scatter:dim=1 기준 y.unsqueeze(1)에 1을 뿌려라!!"
      ],
      "execution_count": 42,
      "outputs": [
        {
          "output_type": "execute_result",
          "data": {
            "text/plain": [
              "tensor([[1., 0., 0., 0., 0.],\n",
              "        [0., 0., 1., 0., 0.],\n",
              "        [0., 1., 0., 0., 0.]])"
            ]
          },
          "metadata": {
            "tags": []
          },
          "execution_count": 42
        }
      ]
    },
    {
      "cell_type": "code",
      "metadata": {
        "colab": {
          "base_uri": "https://localhost:8080/"
        },
        "id": "OKbhMdLFTO3S",
        "outputId": "719764d7-650d-431c-9f72-5b192947f159"
      },
      "source": [
        "cost = (y_one_hot * -torch.log(hypothesis)).sum(dim=1).mean() # .mean()을 해주면 평균 -> scalar\n",
        "print(cost)"
      ],
      "execution_count": 43,
      "outputs": [
        {
          "output_type": "stream",
          "text": [
            "tensor(1.4689, grad_fn=<MeanBackward0>)\n"
          ],
          "name": "stdout"
        }
      ]
    },
    {
      "cell_type": "code",
      "metadata": {
        "colab": {
          "base_uri": "https://localhost:8080/"
        },
        "id": "cU4Z3cubT-pw",
        "outputId": "06f207b7-3f68-4e6f-8b74-429d8df7bd71"
      },
      "source": [
        "## Cross-entropy Loss with torch.nn.functional\n",
        "\n",
        "# Low level\n",
        "torch.log(F.softmax(z, dim=1))\n",
        "\n",
        "# High level\n",
        "F.log_softmax(z, dim=1)"
      ],
      "execution_count": 44,
      "outputs": [
        {
          "output_type": "execute_result",
          "data": {
            "text/plain": [
              "tensor([[-1.3301, -1.8084, -1.6846, -1.3530, -2.0584],\n",
              "        [-1.4147, -1.8174, -1.4602, -1.6450, -1.7758],\n",
              "        [-1.5025, -1.6165, -1.4586, -1.8360, -1.6776]],\n",
              "       grad_fn=<LogSoftmaxBackward>)"
            ]
          },
          "metadata": {
            "tags": []
          },
          "execution_count": 44
        }
      ]
    },
    {
      "cell_type": "code",
      "metadata": {
        "colab": {
          "base_uri": "https://localhost:8080/"
        },
        "id": "AeyzkYxTUwQc",
        "outputId": "8e88222d-a8f7-4d46-fddf-bc526d20012f"
      },
      "source": [
        "# Low level\n",
        "(y_one_hot * -torch.log(F.softmax(z, dim=1))).sum(dim=1).mean()\n",
        "\n",
        "# High level\n",
        "F.nll_loss(F.log_softmax(z, dim=1), y) # negative log likelihood\n",
        "\n",
        "F.cross_entropy(z, y)\n",
        "\n",
        "# Neural Network 에서 확률값 필요\n",
        "# 예측값을 구하는 과정에서 다시 따로 softmax 함수를 활성화 함수로서 사용"
      ],
      "execution_count": 45,
      "outputs": [
        {
          "output_type": "execute_result",
          "data": {
            "text/plain": [
              "tensor(1.4689, grad_fn=<NllLossBackward>)"
            ]
          },
          "metadata": {
            "tags": []
          },
          "execution_count": 45
        }
      ]
    },
    {
      "cell_type": "code",
      "metadata": {
        "id": "vVSef_eEWlqa"
      },
      "source": [
        "x_train = [[1,2,1,1],\n",
        "           [2,1,3,2],\n",
        "           [3,1,3,4],\n",
        "           [4,1,5,5],\n",
        "           [1,7,5,5],\n",
        "           [1,2,5,6],\n",
        "           [1,6,6,6],\n",
        "           [1,7,7,7]]\n",
        "y_train = [2,2,2,1,1,1,0,0]\n",
        "x_train = torch.FloatTensor(x_train)\n",
        "y_train = torch.LongTensor(y_train)"
      ],
      "execution_count": 46,
      "outputs": []
    },
    {
      "cell_type": "markdown",
      "metadata": {
        "id": "0IUXzPKgWmaT"
      },
      "source": [
        "##### Training with Low-level Cross Entropy Loss"
      ]
    },
    {
      "cell_type": "code",
      "metadata": {
        "colab": {
          "base_uri": "https://localhost:8080/"
        },
        "id": "VltUZxPUvRcX",
        "outputId": "2cb4b20f-7a83-4413-c159-a316bde384b2"
      },
      "source": [
        "# 모델 초기화\n",
        "W = torch.zeros((4, 3), requires_grad=True)\n",
        "b = torch.zeros(1, requires_grad=True)\n",
        "# optimizer 설정\n",
        "optimizer = optim.SGD([W, b], lr=0.1)\n",
        "\n",
        "nb_epochs = 1000\n",
        "for epoch in range(nb_epochs + 1):\n",
        "\n",
        "    # Cost 계산 (1)\n",
        "    hypothesis = F.softmax(x_train.matmul(W) + b, dim=1) # or .mm or @\n",
        "    y_one_hot = torch.zeros_like(hypothesis)\n",
        "    y_one_hot.scatter_(1, y_train.unsqueeze(1), 1)\n",
        "    cost = (y_one_hot * -torch.log(F.softmax(hypothesis, dim=1))).sum(dim=1).mean()\n",
        "\n",
        "    # cost로 H(x) 개선\n",
        "    optimizer.zero_grad()\n",
        "    cost.backward()\n",
        "    optimizer.step()\n",
        "\n",
        "    # 100번마다 로그 출력\n",
        "    if epoch % 100 == 0:\n",
        "        print('Epoch {:4d}/{} Cost: {:.6f}'.format(\n",
        "            epoch, nb_epochs, cost.item()\n",
        "        ))"
      ],
      "execution_count": 47,
      "outputs": [
        {
          "output_type": "stream",
          "text": [
            "Epoch    0/1000 Cost: 1.098612\n",
            "Epoch  100/1000 Cost: 0.901535\n",
            "Epoch  200/1000 Cost: 0.839114\n",
            "Epoch  300/1000 Cost: 0.807826\n",
            "Epoch  400/1000 Cost: 0.788472\n",
            "Epoch  500/1000 Cost: 0.774822\n",
            "Epoch  600/1000 Cost: 0.764449\n",
            "Epoch  700/1000 Cost: 0.756191\n",
            "Epoch  800/1000 Cost: 0.749398\n",
            "Epoch  900/1000 Cost: 0.743671\n",
            "Epoch 1000/1000 Cost: 0.738749\n"
          ],
          "name": "stdout"
        }
      ]
    },
    {
      "cell_type": "markdown",
      "metadata": {
        "id": "e-bydnQ4vrb1"
      },
      "source": [
        "##### Training with F.cross_entropy"
      ]
    },
    {
      "cell_type": "code",
      "metadata": {
        "colab": {
          "base_uri": "https://localhost:8080/"
        },
        "id": "FehDM0h1vrb2",
        "outputId": "b5ad242f-60f9-46c7-e5ab-991a05bf53f4"
      },
      "source": [
        "# 모델 초기화 \n",
        "W = torch.zeros((4, 3), requires_grad=True) # dm = 4, calss = 3\n",
        "b = torch.zeros(1, requires_grad=True)\n",
        "\n",
        "# optimizer 설정\n",
        "optimizer = optim.SGD([W, b], lr=0.1)\n",
        "\n",
        "nb_epochs = 1000\n",
        "for epoch in range(nb_epochs + 1):\n",
        "\n",
        "    # Cost 계산 (2)\n",
        "    z = x_train.matmul(W) + b # or .mm or @\n",
        "    cost = F.cross_entropy(z, y_train)\n",
        "\n",
        "    # cost로 H(x) 개선\n",
        "    optimizer.zero_grad()\n",
        "    cost.backward()\n",
        "    optimizer.step()\n",
        "\n",
        "    # 100번마다 로그 출력\n",
        "    if epoch % 100 == 0:\n",
        "        print('Epoch {:4d}/{} Cost: {:.6f}'.format(\n",
        "            epoch, nb_epochs, cost.item()\n",
        "        ))"
      ],
      "execution_count": 48,
      "outputs": [
        {
          "output_type": "stream",
          "text": [
            "Epoch    0/1000 Cost: 1.098612\n",
            "Epoch  100/1000 Cost: 0.761050\n",
            "Epoch  200/1000 Cost: 0.689991\n",
            "Epoch  300/1000 Cost: 0.643229\n",
            "Epoch  400/1000 Cost: 0.604117\n",
            "Epoch  500/1000 Cost: 0.568256\n",
            "Epoch  600/1000 Cost: 0.533922\n",
            "Epoch  700/1000 Cost: 0.500291\n",
            "Epoch  800/1000 Cost: 0.466908\n",
            "Epoch  900/1000 Cost: 0.433507\n",
            "Epoch 1000/1000 Cost: 0.399962\n"
          ],
          "name": "stdout"
        }
      ]
    },
    {
      "cell_type": "markdown",
      "metadata": {
        "id": "OjtpVJsJv4M2"
      },
      "source": [
        "##### High-level Implementation with nn.Module"
      ]
    },
    {
      "cell_type": "code",
      "metadata": {
        "id": "fI3wizX7v5B0"
      },
      "source": [
        "class SoftmaxClassifierModel(nn.Module):\n",
        "    def __init__(self):\n",
        "        super().__init__()\n",
        "        self.linear = nn.Linear(4, 3) # Output이 3!\n",
        "\n",
        "    def forward(self, x):\n",
        "        return self.linear(x)\n",
        "\n",
        "model = SoftmaxClassifierModel()"
      ],
      "execution_count": 49,
      "outputs": []
    },
    {
      "cell_type": "code",
      "metadata": {
        "colab": {
          "base_uri": "https://localhost:8080/"
        },
        "id": "Uuhqtw1IwCrI",
        "outputId": "0515ea8b-83dd-4e14-c2bc-ab1ba51cee0f"
      },
      "source": [
        "# optimizer 설정\n",
        "optimizer = optim.SGD(model.parameters(), lr=0.1)\n",
        "\n",
        "nb_epochs = 1000\n",
        "for epoch in range(nb_epochs + 1):\n",
        "\n",
        "    # H(x) 계산\n",
        "    prediction = model(x_train) # |x_train| = (m,4)\n",
        "    # |prediction| = (m,3), |y_train| = (m,)\n",
        "\n",
        "    # cost 계산\n",
        "    cost = F.cross_entropy(prediction, y_train)\n",
        "\n",
        "    # cost로 H(x) 개선\n",
        "    optimizer.zero_grad()\n",
        "    cost.backward()\n",
        "    optimizer.step()\n",
        "    \n",
        "    # 20번마다 로그 출력\n",
        "    if epoch % 100 == 0:\n",
        "        print('Epoch {:4d}/{} Cost: {:.6f}'.format(\n",
        "            epoch, nb_epochs, cost.item()\n",
        "        ))"
      ],
      "execution_count": 50,
      "outputs": [
        {
          "output_type": "stream",
          "text": [
            "Epoch    0/1000 Cost: 1.849513\n",
            "Epoch  100/1000 Cost: 0.689894\n",
            "Epoch  200/1000 Cost: 0.609259\n",
            "Epoch  300/1000 Cost: 0.551218\n",
            "Epoch  400/1000 Cost: 0.500141\n",
            "Epoch  500/1000 Cost: 0.451947\n",
            "Epoch  600/1000 Cost: 0.405051\n",
            "Epoch  700/1000 Cost: 0.358733\n",
            "Epoch  800/1000 Cost: 0.312912\n",
            "Epoch  900/1000 Cost: 0.269522\n",
            "Epoch 1000/1000 Cost: 0.241922\n"
          ],
          "name": "stdout"
        }
      ]
    },
    {
      "cell_type": "markdown",
      "metadata": {
        "id": "7miBJxWlyc7f"
      },
      "source": [
        "##### softmax classification\n",
        "- 2개 이상의 클래스 분류시 사용 -> 딥러닝시 대부분\n",
        "- logistic regression 과 매우 유사\n",
        "\n",
        "- \"BCE\": 이진 분류, Sigmoid\n",
        "- \"CE\": 다중 분류, Softmax"
      ]
    }
  ]
}